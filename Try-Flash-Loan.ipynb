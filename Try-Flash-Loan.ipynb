{
 "cells": [
  {
   "cell_type": "markdown",
   "metadata": {},
   "source": [
    "#### https://www.trufflesuite.com/boxes/flashloan-box"
   ]
  },
  {
   "cell_type": "code",
   "execution_count": null,
   "metadata": {},
   "outputs": [],
   "source": [
    "mkdir -p flashloan && cd flashloan\n",
    "truffle unbox aave/flashloan-box --force"
   ]
  },
  {
   "cell_type": "code",
   "execution_count": null,
   "metadata": {},
   "outputs": [],
   "source": [
    "yarn add -D truffle-plugin-verify"
   ]
  },
  {
   "cell_type": "code",
   "execution_count": null,
   "metadata": {},
   "outputs": [],
   "source": [
    "truffle migrate --reset --network ropsten"
   ]
  },
  {
   "cell_type": "markdown",
   "metadata": {},
   "source": [
    "```\n",
    "Starting migrations...\n",
    "======================\n",
    "> Network name:    'ropsten'\n",
    "> Network id:      3\n",
    "> Block gas limit: 8000000 (0x7a1200)\n",
    "\n",
    "\n",
    "1_initial_migration.js\n",
    "======================\n",
    "\n",
    "   Deploying 'Migrations'\n",
    "   ----------------------\n",
    "   > transaction hash:    0x0353eecf5672a9c77d3dcb0cf353b7e48f7ee593ca077d77691554c893bb910d\n",
    "   > Blocks: 2            Seconds: 57\n",
    "   > contract address:    0x1614ba61C755B4b45013ffac48722f0f1cC74839\n",
    "   > block number:        9673489\n",
    "   > block timestamp:     1613467881\n",
    "   > account:             0xe642f1a103867EE5100b197A4cF083185aD78438\n",
    "   > balance:             4.999204025\n",
    "   > gas used:            159195 (0x26ddb)\n",
    "   > gas price:           5 gwei\n",
    "   > value sent:          0 ETH\n",
    "   > total cost:          0.000795975 ETH\n",
    "\n",
    "\n",
    "   > Saving migration to chain.\n",
    "   > Saving artifacts\n",
    "   -------------------------------------\n",
    "   > Total cost:         0.000795975 ETH\n",
    "\n",
    "\n",
    "2_deploy_contracts.js\n",
    "=====================\n",
    "\n",
    "   Deploying 'Flashloan'\n",
    "   ---------------------\n",
    "   > transaction hash:    0x1cb4c42bc2e7bd62ca79c5559903af72191971a2989f1202c03a5e50313e2f37\n",
    "   > Blocks: 2            Seconds: 13\n",
    "   > contract address:    0x1b818cEBBF88aE2ac435514B6d5E4f06b83646aB\n",
    "   > block number:        9673495\n",
    "   > block timestamp:     1613467943\n",
    "   > account:             0xe642f1a103867EE5100b197A4cF083185aD78438\n",
    "   > balance:             4.992731365\n",
    "   > gas used:            1252194 (0x131b62)\n",
    "   > gas price:           5 gwei\n",
    "   > value sent:          0 ETH\n",
    "   > total cost:          0.00626097 ETH\n",
    "\n",
    "\n",
    "   > Saving migration to chain.\n",
    "   > Saving artifacts\n",
    "   -------------------------------------\n",
    "   > Total cost:          0.00626097 ETH\n",
    "\n",
    "\n",
    "Summary\n",
    "=======\n",
    "> Total deployments:   2\n",
    "> Final cost:          0.007056945 ETH\n",
    "```"
   ]
  },
  {
   "cell_type": "code",
   "execution_count": null,
   "metadata": {},
   "outputs": [],
   "source": [
    "truffle run verify Flashloan --network ropsten --license MIT"
   ]
  },
  {
   "cell_type": "markdown",
   "metadata": {},
   "source": [
    "```\n",
    "Verifying Flashloan\n",
    "Pass - Verified: https://ropsten.etherscan.io/address/0x1b818cEBBF88aE2ac435514B6d5E4f06b83646aB#contracts\n",
    "Successfully verified 1 contract(s).\n",
    "```"
   ]
  },
  {
   "cell_type": "markdown",
   "metadata": {},
   "source": [
    "* https://ropsten.etherscan.io/address/0x1b818cebbf88ae2ac435514b6d5e4f06b83646ab#code\n",
    "* https://ropsten.etherscan.io/address/0x1b818cebbf88ae2ac435514b6d5e4f06b83646ab#writeContract"
   ]
  },
  {
   "cell_type": "markdown",
   "metadata": {},
   "source": [
    "* https://ropsten.etherscan.io/address/0xf80a32a835f79d7787e8a8ee5721d0feafd78108#writeContract"
   ]
  },
  {
   "cell_type": "markdown",
   "metadata": {},
   "source": [
    "#### https://docs.aave.com/developers/guides/flash-loans"
   ]
  },
  {
   "cell_type": "markdown",
   "metadata": {},
   "source": [
    "#### https://github.com/brownie-mix/aave-flashloan-mix"
   ]
  }
 ],
 "metadata": {
  "kernelspec": {
   "display_name": "Bash",
   "language": "bash",
   "name": "bash"
  },
  "language_info": {
   "codemirror_mode": "shell",
   "file_extension": ".sh",
   "mimetype": "text/x-sh",
   "name": "bash"
  }
 },
 "nbformat": 4,
 "nbformat_minor": 4
}
