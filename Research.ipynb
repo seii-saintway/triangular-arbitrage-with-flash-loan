{
 "cells": [
  {
   "cell_type": "markdown",
   "metadata": {},
   "source": [
    "* http://beza1e1.tuxen.de/articles/accidentally_turing_complete.html"
   ]
  },
  {
   "cell_type": "markdown",
   "metadata": {},
   "source": [
    "* https://medium.com/aave/aave-x-hackmoney-is-back-703d4ee8c28d\n",
    "* https://medium.com/aave/aave-x-gitcoin-hackathon-highlights-2057dc777803"
   ]
  },
  {
   "cell_type": "markdown",
   "metadata": {},
   "source": [
    "* https://eattheblocks-pro.teachable.com/p/profitable-flashloans"
   ]
  },
  {
   "cell_type": "markdown",
   "metadata": {},
   "source": [
    "#### Get some fake Ropsten Ether\n",
    "* https://faucet.ropsten.be/"
   ]
  },
  {
   "cell_type": "code",
   "execution_count": null,
   "metadata": {},
   "outputs": [],
   "source": [
    "wget https://faucet.ropsten.be/donate/0xe642f1a103867EE5100b197A4cF083185aD78438"
   ]
  },
  {
   "cell_type": "markdown",
   "metadata": {},
   "source": [
    "* https://faucet.dimensions.network/"
   ]
  },
  {
   "cell_type": "markdown",
   "metadata": {},
   "source": [
    "#### [The Top Blockchain Developer Frameworks for 2021](https://medium.com/better-programming/the-top-blockchain-developer-frameworks-for-2021-89afa5e7bd04)\n",
    "* https://github.com/eth-brownie/brownie\n",
    "* https://github.com/brownie-mix"
   ]
  }
 ],
 "metadata": {
  "kernelspec": {
   "display_name": "Bash",
   "language": "bash",
   "name": "bash"
  },
  "language_info": {
   "codemirror_mode": "shell",
   "file_extension": ".sh",
   "mimetype": "text/x-sh",
   "name": "bash"
  }
 },
 "nbformat": 4,
 "nbformat_minor": 4
}
